{
  "metadata": {
    "kernelspec": {
      "name": "python",
      "display_name": "Python (Pyodide)",
      "language": "python"
    },
    "language_info": {
      "codemirror_mode": {
        "name": "python",
        "version": 3
      },
      "file_extension": ".py",
      "mimetype": "text/x-python",
      "name": "python",
      "nbconvert_exporter": "python",
      "pygments_lexer": "ipython3",
      "version": "3.8"
    }
  },
  "nbformat_minor": 4,
  "nbformat": 4,
  "cells": [
    {
      "cell_type": "markdown",
      "source": "# Data Science Tools and Ecosystem",
      "metadata": {}
    },
    {
      "cell_type": "markdown",
      "source": "## Data Science Tools and Ecosystem Summary\n\nIn this JupyterLite notebook, we provide a concise summary of key Data Science Tools and the overall ecosystem, offering valuable insights into the essential resources that contribute to the field.\n",
      "metadata": {}
    },
    {
      "cell_type": "markdown",
      "source": "## **Objectives:**\n* Python\n* R\n* SQL\n* Julia\n* Scala",
      "metadata": {}
    },
    {
      "cell_type": "markdown",
      "source": "## Data Science Tools and Ecosystem Summary\n\nIn this JupyterLite notebook, we provide a concise overview of key Data Science Tools and the overall ecosystem, focusing on some of the popular languages that Data Scientists use.\n\n### Overview of Popular Data Science Languages\n\nSome of the popular languages that Data Scientists use are:\n\n1. Python\n2. R\n3. Julia\n\nThese languages play a crucial role in various stages of the data science workflow, from data wrangling and analysis to machine learning and visualization.\n",
      "metadata": {}
    },
    {
      "cell_type": "markdown",
      "source": "## Overview of some commonly used Data Science Libraries \n\nSome of the commonly used libraries by Data Scientists include:\n\n1. Numpy\n2. Pandas\n3. Matplotlib",
      "metadata": {}
    },
    {
      "cell_type": "markdown",
      "source": "## Overview of Data Science Development Environment Tools\n\n| Data Science Tools          |\n|-----------------------------|\n| Jupyter Notebook            |\n| RStudio                     |\n| VSCode with Python extension|\n",
      "metadata": {}
    },
    {
      "cell_type": "markdown",
      "source": "### Examples of Evaluating Arithmetic Expressions in Python\n\nBelow are a few examples of evaluating arithmetic expressions in Python:\n\n```python\n# Your Python code examples here\nresult = 5 + 3\nprint(result)",
      "metadata": {}
    },
    {
      "cell_type": "code",
      "source": "# This is a simple arithmetic expression to multiply then add integers.\nresult = (3 * 4) + 5\nresult\n",
      "metadata": {
        "trusted": true
      },
      "outputs": [
        {
          "execution_count": 15,
          "output_type": "execute_result",
          "data": {
            "text/plain": "17"
          },
          "metadata": {}
        }
      ],
      "execution_count": 15
    },
    {
      "cell_type": "code",
      "source": "# This will convert 200 minutes to hours by dividing by 60.\nminutes = 200\nhours = minutes / 60\nhours\n",
      "metadata": {
        "trusted": true
      },
      "outputs": [
        {
          "execution_count": 16,
          "output_type": "execute_result",
          "data": {
            "text/plain": "3.3333333333333335"
          },
          "metadata": {}
        }
      ],
      "execution_count": 16
    },
    {
      "cell_type": "markdown",
      "source": "## Author\nShashank Melkote",
      "metadata": {}
    },
    {
      "cell_type": "code",
      "source": "",
      "metadata": {
        "trusted": true
      },
      "outputs": [],
      "execution_count": null
    }
  ]
}